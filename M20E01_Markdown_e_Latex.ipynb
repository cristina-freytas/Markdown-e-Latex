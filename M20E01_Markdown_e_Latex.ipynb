{
 "cells": [
  {
   "cell_type": "markdown",
   "id": "e873e005-924b-4097-a74d-5690141bddbc",
   "metadata": {},
   "source": [
    "# Fórmula de Bhaskara\n",
    "\n",
    "A solução para uma função de segundo grau depende das suas raízes (valores de x). Como já vimos, os coeficientes precisam ser números reais e o angular diferente de zero. Sendo assim, temos a seguinte fórmula de Bhaskara:\n",
    "\n",
    "$$ x = \\frac{-b \\pm \\sqrt{b^2 - 4ac}}{2a} $$\n",
    "\n",
    "\n",
    "$$\\text{Fórmula de Bhaskara}$$\n",
    "\n",
    "\n",
    "\n",
    "Para melhor compreensão o seu cálculo é dividido em duas partes: discriminante da equação e operações para determinar as raízes.\n",
    "\n",
    "\n",
    "<span style=\"font-size:larger\">**Discriminante**</span>\n",
    "\n",
    "\n",
    "\n",
    "A figura dentro da raiz na fórmula de Bhaskara é nomeada de discriminante. Seu símbolo é a letra grega delta e apresenta a determinada fórmula:\n",
    "\n",
    "\n",
    "$$ \\Delta = b^2 - 4ac $$\n",
    "\n",
    "\n",
    "\n",
    "$$\\text{Fórmula da Discriminante}$$\n",
    "\n",
    "\n",
    "• Se o delta for maior que zero, a equação terá dois valores reais e distintos. \n",
    "\n",
    "• Se o delta for igual a zero, a equação terá somente um valor real ou dois resultados iguais. \n",
    "\n",
    "• Se o delta for menor que zero, a equação não possuirá valores reais. "
   ]
  },
  {
   "cell_type": "code",
   "execution_count": null,
   "id": "63518372-5517-4598-8c60-cf39ce04dc6c",
   "metadata": {},
   "outputs": [],
   "source": []
  },
  {
   "cell_type": "code",
   "execution_count": null,
   "id": "1b41f068-43c7-49cc-9484-f510b9279d70",
   "metadata": {},
   "outputs": [],
   "source": []
  }
 ],
 "metadata": {
  "kernelspec": {
   "display_name": "Python 3 (ipykernel)",
   "language": "python",
   "name": "python3"
  },
  "language_info": {
   "codemirror_mode": {
    "name": "ipython",
    "version": 3
   },
   "file_extension": ".py",
   "mimetype": "text/x-python",
   "name": "python",
   "nbconvert_exporter": "python",
   "pygments_lexer": "ipython3",
   "version": "3.11.7"
  }
 },
 "nbformat": 4,
 "nbformat_minor": 5
}
